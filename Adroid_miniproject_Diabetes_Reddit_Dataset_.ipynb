{
  "nbformat": 4,
  "nbformat_minor": 0,
  "metadata": {
    "colab": {
      "provenance": []
    },
    "kernelspec": {
      "name": "python3",
      "display_name": "Python 3"
    },
    "language_info": {
      "name": "python"
    }
  },
  "cells": [
    {
      "cell_type": "code",
      "source": [
        "import pandas as pd\n",
        "import torch\n",
        "import torch.nn as nn\n",
        "import torch.optim as optim\n",
        "from sklearn.model_selection import train_test_split\n",
        "from sklearn.preprocessing import StandardScaler\n",
        "from sklearn.metrics import classification_report\n",
        "\n",
        "# Load and preprocess dataset\n",
        "df = pd.read_csv('diabetes.csv')  # Replace with your actual file path\n",
        "\n",
        "# Fill missing values if needed\n",
        "df['Pregnancies'] = df['Pregnancies'].fillna(0)\n",
        "df['BloodPressure'] = df['BloodPressure'].fillna(0)\n",
        "df['Glucose'] = df['Glucose'].fillna(0)\n",
        "\n",
        "# Prepare features and labels\n",
        "X = df[['Pregnancies', 'BloodPressure', 'Glucose']].values\n",
        "y = df['Outcome'].values  # Assuming 'Outcome' is the target column\n",
        "\n",
        "# Normalize the features\n",
        "scaler = StandardScaler()\n",
        "X = scaler.fit_transform(X)\n",
        "\n",
        "# Split data into training and validation sets\n",
        "X_train, X_val, y_train, y_val = train_test_split(X, y, test_size=0.2, random_state=42)\n",
        "\n",
        "# Convert to PyTorch tensors\n",
        "X_train_tensor = torch.tensor(X_train, dtype=torch.float32)\n",
        "y_train_tensor = torch.tensor(y_train, dtype=torch.long)\n",
        "X_val_tensor = torch.tensor(X_val, dtype=torch.float32)\n",
        "y_val_tensor = torch.tensor(y_val, dtype=torch.long)\n",
        "\n",
        "# Define a simple neural network model\n",
        "class SimpleNN(nn.Module):\n",
        "    def __init__(self, input_dim, output_dim):\n",
        "        super(SimpleNN, self).__init__()\n",
        "        self.fc1 = nn.Linear(input_dim, 64)\n",
        "        self.fc2 = nn.Linear(64, 32)\n",
        "        self.fc3 = nn.Linear(32, output_dim)\n",
        "\n",
        "    def forward(self, x):\n",
        "        x = torch.relu(self.fc1(x))\n",
        "        x = torch.relu(self.fc2(x))\n",
        "        x = self.fc3(x)\n",
        "        return x\n",
        "\n",
        "# Initialize the model\n",
        "input_dim = X_train.shape[1]\n",
        "output_dim = len(set(y))  # Number of unique classes\n",
        "model = SimpleNN(input_dim, output_dim)\n",
        "\n",
        "# Define loss function and optimizer\n",
        "criterion = nn.CrossEntropyLoss()\n",
        "optimizer = optim.Adam(model.parameters(), lr=0.001)\n",
        "\n",
        "# Training loop\n",
        "num_epochs = 10\n",
        "for epoch in range(num_epochs):\n",
        "    model.train()\n",
        "    optimizer.zero_grad()\n",
        "    outputs = model(X_train_tensor)\n",
        "    loss = criterion(outputs, y_train_tensor)\n",
        "    loss.backward()\n",
        "    optimizer.step()\n",
        "\n",
        "    if (epoch+1) % 1 == 0:\n",
        "        print(f'Epoch [{epoch+1}/{num_epochs}], Loss: {loss.item():.4f}')\n",
        "\n",
        "# Evaluate the model\n",
        "model.eval()\n",
        "with torch.no_grad():\n",
        "    val_outputs = model(X_val_tensor)\n",
        "    _, predicted = torch.max(val_outputs, 1)\n",
        "    print(classification_report(y_val_tensor.numpy(), predicted.numpy()))\n"
      ],
      "metadata": {
        "colab": {
          "base_uri": "https://localhost:8080/"
        },
        "id": "R5jAJdGg732J",
        "outputId": "5cef5cb2-8547-4b59-fd50-8de4b44db7f9"
      },
      "execution_count": 2,
      "outputs": [
        {
          "output_type": "stream",
          "name": "stdout",
          "text": [
            "Epoch [1/10], Loss: 0.7555\n",
            "Epoch [2/10], Loss: 0.7443\n",
            "Epoch [3/10], Loss: 0.7339\n",
            "Epoch [4/10], Loss: 0.7243\n",
            "Epoch [5/10], Loss: 0.7155\n",
            "Epoch [6/10], Loss: 0.7072\n",
            "Epoch [7/10], Loss: 0.6994\n",
            "Epoch [8/10], Loss: 0.6922\n",
            "Epoch [9/10], Loss: 0.6854\n",
            "Epoch [10/10], Loss: 0.6790\n",
            "              precision    recall  f1-score   support\n",
            "\n",
            "           0       0.83      0.48      0.61        99\n",
            "           1       0.47      0.82      0.60        55\n",
            "\n",
            "    accuracy                           0.60       154\n",
            "   macro avg       0.65      0.65      0.60       154\n",
            "weighted avg       0.70      0.60      0.61       154\n",
            "\n"
          ]
        }
      ]
    },
    {
      "cell_type": "code",
      "source": [],
      "metadata": {
        "id": "NldfT_N575_5"
      },
      "execution_count": null,
      "outputs": []
    }
  ]
}